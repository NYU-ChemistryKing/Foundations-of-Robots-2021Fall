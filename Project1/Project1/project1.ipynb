{
 "cells": [
  {
   "cell_type": "markdown",
   "metadata": {},
   "source": [
    "# Project 1: computing all kinematic informations of a real manipulator\n",
    "\n",
    "In this project (and the next ones), we will build all the necessary various functionalities for realistic robot manipulators. This first project aims to build the core fonctions (basic homogeneous transforms, twists, forward kinematics and Jacobians) that will be a foundation for all subsequent algorithms.\n",
    "\n",
    "## Instructions\n",
    "* Answer all questions in the notebook\n",
    "* You will need to submit on Brightspace: \n",
    "    1. the code you wrote to answer the questions in a Jupyter Notebook. The code should be runnable as is.\n",
    "    2. a 2-3 pages report in pdf format (pdf only) detailing the methodology you followed to answer the questions as well as answers to the questions that require a written answer. You may add the plots in the report (does not count for the page limit) or in the Jupyter notebook.\n",
    "\n",
    "\n",
    "## The robot\n",
    "\n",
    "We will use a model of the [Kuka iiwa 14 robot](https://www.kuka.com/en-us/products/robotics-systems/industrial-robots/lbr-iiwa). This robot has 7 revolute joints and its kinematics is described in the picture below:\n",
    "\n",
    "![](https://raw.githubusercontent.com/righetti/ROB6003/143afa17d7eb1af79c3f6ce034973a1774da5d42/Project1/kuka_kinematics.png \"Kuka iiwa 14 Kinematic Model\")"
   ]
  },
  {
   "cell_type": "markdown",
   "metadata": {},
   "source": [
    "# Setup\n",
    "\n",
    "Run the cell below only once when resetting the runtime in Colab - this will not do anything when running on a local Jupyter Notebook."
   ]
  },
  {
   "cell_type": "code",
   "execution_count": 53,
   "metadata": {},
   "outputs": [],
   "source": [
    "## check if we are in Google Colab\n",
    "try:\n",
    "    import google.colab\n",
    "    RUNNING_IN_COLAB = True\n",
    "    print('detected Colab - setting up environment')\n",
    "    # then we need to install the conda environment\n",
    "    try:\n",
    "        import condacolab\n",
    "        condacolab.check()\n",
    "    except:\n",
    "        !pip install -q condacolab\n",
    "        import condacolab\n",
    "        condacolab.install()\n",
    "except:\n",
    "    RUNNING_IN_COLAB = False"
   ]
  },
  {
   "cell_type": "code",
   "execution_count": 54,
   "metadata": {},
   "outputs": [],
   "source": [
    "# after installing condalab, the runtime restarts\n",
    "# -> need to check for colab env once more here\n",
    "try:\n",
    "    import google.colab\n",
    "    RUNNING_IN_COLAB = True\n",
    "except Exception as e:\n",
    "    RUNNING_IN_COLAB = False\n",
    "\n",
    "if RUNNING_IN_COLAB:\n",
    "    try:\n",
    "        # Check if packages are installed or not. If not, install them.\n",
    "        import pinocchio\n",
    "    except:\n",
    "        # Install pinocchio, meschat-python \n",
    "        !conda install pinocchio meshcat-python\n",
    "       \n",
    "    # get the class repo - first check if it exists\n",
    "    import os, sys\n",
    "    if not os.path.isdir('/content/ROB6003/Project1'):\n",
    "      print('cloning LAB repository')\n",
    "      os.chdir('/content')\n",
    "      !git clone https://github.com/righetti/ROB6003.git\n",
    "      print('cloning done')\n",
    "    else:\n",
    "      print('lab repos was found, skipping cloning')\n",
    "    print('done configuring for Colab')\n",
    "    sys.path.append('/content/ROB6003/Project1/')\n",
    "    os.chdir('/content/ROB6003/Project1/')\n",
    "    print('done adding system path and changing directory.')\n"
   ]
  },
  {
   "cell_type": "markdown",
   "metadata": {},
   "source": [
    "# Starting the visualization environment\n",
    "\n",
    "The following code will start a visualization environment (click on the printed address to see the robot)\n",
    "\n",
    "You need to run this only ONCE. Each time you run this cell you will get a new display environment (so you need to close the previous one!)\n",
    "\n",
    "This should work out of the box on Google Colab and you local Jupyter Notebook (make sure you have installed the right libraries in your local computer if you do not use Colab)."
   ]
  },
  {
   "cell_type": "code",
   "execution_count": 55,
   "metadata": {},
   "outputs": [
    {
     "name": "stdout",
     "output_type": "stream",
     "text": [
      "You can open the visualizer by visiting the following URL:\n",
      "http://127.0.0.1:7001/static/\n",
      "You should see the Kuka iiwa robot now when going to this page: http://127.0.0.1:7001/static/\n"
     ]
    },
    {
     "name": "stderr",
     "output_type": "stream",
     "text": [
      "D:\\User\\anaconda\\lib\\site-packages\\pinocchio\\shortcuts.py:45: UserWarning: You passed package dir(s) via argument geometry_model and provided package_dirs.\n",
      "  geom_model = pin.buildGeomFromUrdf(model, filename, geometry_type, package_dirs)\n"
     ]
    }
   ],
   "source": [
    "import numpy as np\n",
    "import robot_visualizer\n",
    "import time\n",
    "import scipy as sp\n",
    "\n",
    "import matplotlib.pyplot as plt\n",
    "\n",
    "robot_visualizer.start_robot_visualizer()"
   ]
  },
  {
   "cell_type": "markdown",
   "metadata": {},
   "source": [
    "# Displaying an arbitrary configuration\n",
    "\n",
    "You can use the following function to display arbitrary configurations of the robot"
   ]
  },
  {
   "cell_type": "code",
   "execution_count": 56,
   "metadata": {},
   "outputs": [
    {
     "name": "stdout",
     "output_type": "stream",
     "text": [
      "we show the configuration for the angles [0.12248259 0.96385225 0.69751466 0.78386765 0.29015078 0.67388545\n",
      " 0.75278921]\n"
     ]
    }
   ],
   "source": [
    "# here we display an arbitrary configuration of the robot\n",
    "q = np.random.sample([7])\n",
    "print(f'we show the configuration for the angles {q}')\n",
    "robot_visualizer.display_robot(q)"
   ]
  },
  {
   "cell_type": "code",
   "execution_count": 57,
   "metadata": {},
   "outputs": [],
   "source": [
    "# Here are some other basic functions writen before.\n",
    "import numpy as np\n",
    "import math\n",
    "from scipy.linalg import expm\n",
    "from scipy.linalg import logm\n",
    "\n",
    "# 1.from a → [a] ( 3 x 3 )\n",
    "def GetMatrixForm(w):\n",
    "\n",
    "    bnw = np.array([\n",
    "        [0      , -w[2,0] , w[1,0] ],\n",
    "        [w[2,0] , 0       , -w[0,0]],\n",
    "        [-w[1,0], w[0,0]  , 0      ]\n",
    "        ])\n",
    "    \n",
    "    return bnw\n",
    "\n",
    "# 2.from [a] → a ( 3 x 1 )   \n",
    "def GetVector(mw):\n",
    "\n",
    "    w=([\n",
    "    [mw[2,1]],\n",
    "    [mw[0,2]],\n",
    "    [mw[1,0]]\n",
    "    ])\n",
    "\n",
    "    return w\n",
    "\n",
    "# 3.Rot( axis, theta )\n",
    "# Counterclockwise means positive angle\n",
    "def Rot( axis, theta ):\n",
    "\n",
    "    if axis == 'x':\n",
    "\n",
    "        R = np.array([\n",
    "            [1, 0 ,0],\n",
    "            [0, math.cos(theta), -math.sin(theta)],\n",
    "            [0, math.sin(theta), math.cos(theta)]\n",
    "        ])\n",
    "\n",
    "        return R\n",
    "    \n",
    "    elif axis == 'y':\n",
    "\n",
    "        R = np.array([\n",
    "            [math.cos(theta), 0 ,math.sin(theta)],\n",
    "            [0, 1, 0],\n",
    "            [-math.sin(theta), 0, math.cos(theta)]\n",
    "        ])   \n",
    "\n",
    "        return R\n",
    "    \n",
    "    elif axis == 'z':\n",
    "\n",
    "        R = np.array([\n",
    "        [math.cos(theta), -math.sin(theta), 0],\n",
    "        [math.sin(theta), math.cos(theta), 0],\n",
    "        [0, 0 ,1]\n",
    "    ])\n",
    "\n",
    "        return R\n",
    "    \n",
    "    else:  \n",
    "\n",
    "        return print(\"Error!\")\n",
    "\n",
    "# 4.EulerAngles α β γ Rotation Matrix\n",
    "def EulerRotationMatrix(x,y,z):\n",
    "\n",
    "    R = np.array([\n",
    "\n",
    "        [math.cos(x) * math.cos(y), math.cos(x) * math.sin(y) * math.sin(z) - math.sin(x) * math.cos(z), math.cos(x) * math.sin(y) * math.cos(z) + math.sin(x) * math.sin(z)],\n",
    "        [math.sin(x) * math.cos(y), math.sin(x) * math.sin(y) * math.sin(z) + math.cos(x) * math.cos(z), math.sin(x) * math.sin(y) * math.cos(z) - math.cos(x) * math.sin(z)],\n",
    "        [-math.sin(y)             , math.cos(y) * math.sin(z)                                          , math.cos(y) * math.cos(z)                                          ]\n",
    "\n",
    "        ])\n",
    "\n",
    "    return R    \n",
    "\n",
    "# 5.From R → EulerAngles α β γ\n",
    "# Positive angle means clockwise (shun shi zhen) around the axis\n",
    "def getEulerAngles(R):\n",
    "    sy = math.sqrt(R[0,0] * R[0,0] + R[1,0] * R[1,0])\n",
    "    singular = sy < 1e-6\n",
    "\n",
    "    if not singular:\n",
    "        x = math.atan2(R[2,1] , R[2,2])\n",
    "        y = math.atan2(-R[2,0], sy)\n",
    "        z = math.atan2(R[1,0], R[0,0])\n",
    "    \n",
    "    else:\n",
    "        x = math.atan2(-R[1,2], R[1,1])\n",
    "        y = math.atan2(-R[2,0], sy)\n",
    "        z = 0\n",
    "    \n",
    "    return np.array([x,y,z])\n",
    "\n",
    "# 5.1 Judge R is or not a Real Rotation Matrix\n",
    "# print(isRotationMatrix(R))\n",
    "def isRotationMatrix(R):\n",
    "    # square matrix test\n",
    "    if R.ndim != 2 or R.shape[0] != R.shape[1]:\n",
    "        return False\n",
    "    should_be_identity = np.allclose(R.dot(R.T), np.identity(R.shape[0], np.float))\n",
    "    should_be_one = np.allclose(np.linalg.det(R), 1)\n",
    "    return should_be_identity and should_be_one\n",
    "\n",
    "# 6.from R,p → T (Transforms)\n",
    "#   R,p = getRpfromT(T)\n",
    "def getTfromRp(R,p):\n",
    "\n",
    "    M = np.hstack(     (R, p)    )\n",
    "    T = np.vstack(     (M, np.array([0,0,0,1]))   )\n",
    "\n",
    "    return T\n",
    "\n",
    "# 7.from T → R,p\n",
    "def getRpfromT(T):\n",
    "\n",
    "    def getRfromT(T):\n",
    "        \n",
    "        R = T[0:3, 0:3]\n",
    "        \n",
    "        return R\n",
    "\n",
    "    def getpfromT(T):\n",
    "\n",
    "        p = np.array([\n",
    "\n",
    "            [T[0,3]],\n",
    "            [T[1,3]],\n",
    "            [T[2,3]]\n",
    "\n",
    "        ])\n",
    "\n",
    "        return p\n",
    "\n",
    "    R = getRfromT(T)\n",
    "    p = getpfromT(T)\n",
    "\n",
    "    return R,p\n",
    "\n",
    "# 8.from T → T^(-1)\n",
    "def getInversedT(T):\n",
    "\n",
    "    def getRfromT(T):\n",
    "        \n",
    "        R = T[0:3, 0:3]\n",
    "        \n",
    "        return R\n",
    "\n",
    "    def getpfromT(T):\n",
    "\n",
    "        p = np.array([\n",
    "\n",
    "            [T[0,3]],\n",
    "            [T[1,3]],\n",
    "            [T[2,3]]\n",
    "\n",
    "        ])\n",
    "\n",
    "        return p\n",
    "    \n",
    "    R = getRfromT(T)\n",
    "    p = getpfromT(T)\n",
    "    TR = np.transpose(R)\n",
    "    Tp = -TR @ p\n",
    "    M = np.hstack( (TR, Tp) )  \n",
    "    N = np.array([0,0,0,1])  \n",
    "    T = np.vstack(( M, N ))\n",
    "\n",
    "    return T   \n",
    "\n",
    "# 9.from T,point or T,vector → Transfromed point or Transformed vector\n",
    "def PointsTransform(T,p):\n",
    "\n",
    "    pbar = np.vstack( (p,1) )\n",
    "    pt = T @ pbar\n",
    "    p = pt[0:3]\n",
    "\n",
    "    return p\n",
    "\n",
    "def VectorTransform(T,v):\n",
    "\n",
    "    vbar = np.vstack( (v,0) )\n",
    "    vt = T @ vbar\n",
    "    v = vt[0:3]\n",
    "\n",
    "    return v\n",
    "# 10. From w,R → dr\n",
    "def getdiffR(w,R):\n",
    "\n",
    "    mw = GetMatrixForm(w)\n",
    "    dR = mw @ R\n",
    "\n",
    "    return dR\n",
    "\n",
    "# 10.1 From w,t ➡️ R\n",
    "def getRfromwt(w,t):\n",
    "\n",
    "    mw = GetMatrixForm(w)\n",
    "    R = expm( mw * t)\n",
    "\n",
    "    return R\n",
    "# 10.2 w0 = R01 @ w1\n",
    "# 10.3 w01 = - w10\n",
    "\n",
    "# How to get w10_in0 from w01_in1?\n",
    "#------------------------------------\n",
    "\n",
    "# w01_in0 = R01 @ w01_in1\n",
    "# w10_in0 = -1 * w01 in 0\n",
    "\n",
    "#------------------------------------\n",
    "\n",
    "# 10.4 get w and theta from R\n",
    "def getwthetafromR(R):\n",
    "\n",
    "    theta = math.acos(0.5*(np.trace(R)-1))\n",
    "    bdw = (R-np.transpose(R))/(2*math.sin(theta))\n",
    "    w = GetVector(bdw)\n",
    "\n",
    "    return w,theta\n",
    "# 11. From Twist → w,v\n",
    "#     w,v = getwvfromTwist(V)\n",
    "def getwvfromTwist(V):\n",
    "\n",
    "    w = np.array([\n",
    "        [V[0,0]],\n",
    "        [V[1,0]],\n",
    "        [V[2,0]]\n",
    "    ])\n",
    "\n",
    "    v = np.array([\n",
    "        [V[3,0]],\n",
    "        [V[4,0]],\n",
    "        [V[5,0]]\n",
    "    ])\n",
    "\n",
    "    return w,v\n",
    "\n",
    "# 12. From w,v → Twist\n",
    "def getTwistfromwv(w,v):\n",
    "\n",
    "    V = np.array([\n",
    "\n",
    "        [w[0,0]],\n",
    "        [w[1,0]],\n",
    "        [w[2,0]],\n",
    "        [v[0,0]],\n",
    "        [v[1,0]],\n",
    "        [v[2,0]]\n",
    "\n",
    "    ])\n",
    "        \n",
    "    return V    \n",
    "# 12.1 From w,p → Twist\n",
    "def getTwistfromwp(w,p):\n",
    "\n",
    "    Mw = -GetMatrixForm(w)\n",
    "    v = Mw @ p\n",
    "\n",
    "    V = np.array([\n",
    "\n",
    "        [w[0,0]],\n",
    "        [w[1,0]],\n",
    "        [w[2,0]],\n",
    "        [v[0,0]],\n",
    "        [v[1,0]],\n",
    "        [v[2,0]]\n",
    "\n",
    "    ])\n",
    "        \n",
    "    return V \n",
    "\n",
    "# 13. From V → [V]\n",
    "def getMatrixTwist(V):\n",
    "    \n",
    "    MV = np.array([\n",
    "\n",
    "        [0, -V[2,0], V[1,0], V[3,0]],\n",
    "        [V[2,0], 0, -V[0,0], V[4,0]],\n",
    "        [-V[1,0], V[0,0], 0, V[5,0]],\n",
    "        [0, 0, 0, 0]\n",
    "\n",
    "    ])\n",
    "\n",
    "    return MV\n",
    "\n",
    "# 14. From [V] → V\n",
    "def getVectorV(MV):\n",
    "\n",
    "    V = np.array([\n",
    "\n",
    "        [MV[2,1]],\n",
    "        [MV[0,2]],\n",
    "        [MV[1,0]],\n",
    "        [MV[0,3]],\n",
    "        [MV[1,3]],\n",
    "        [MV[2,3]]\n",
    "\n",
    "    ])\n",
    "        \n",
    "    return V\n",
    "\n",
    "# 15. from T → V\n",
    "def getTwistfromTranform(T):\n",
    "\n",
    "    MV = logm(T)\n",
    "    V = getVectorV(MV)\n",
    "\n",
    "    return V\n",
    "\n",
    "# 16. from V → T\n",
    "def getTransformfromTwist(V):\n",
    "\n",
    "    MV = getMatrixTwist(V)\n",
    "    T = expm(MV)\n",
    "\n",
    "    return T\n",
    "\n",
    "# (if the input is M V t)\n",
    "def GetTransformationFromV(M,V,t):\n",
    "\n",
    "    ExpV = expm( getMatrixTwist(V) * t )\n",
    "    T = ExpV @ M\n",
    "\n",
    "    return T\n",
    "\n",
    "# 17. Adjoint\n",
    "def getAdT(T):\n",
    "    \n",
    "    R,p = getRpfromT(T)\n",
    "    mp = GetMatrixForm(p)\n",
    "    M = np.dot(mp, R)\n",
    "    O = np.dot(0, np.eye(3))\n",
    "    \n",
    "    H1 = np.hstack((R,O))\n",
    "    H2 = np.hstack((M,R))\n",
    "\n",
    "    AdT = np.vstack((H1,H2))\n",
    "    \n",
    "    return AdT\n",
    "# 17.1 Get a velocity of a point\n",
    "def GetpointvelocityfromTwist(V,p):\n",
    "\n",
    "    w,v = getwvfromTwist(V)\n",
    "    mw = GetMatrixForm(w)\n",
    "    dp = v + mw @ p\n",
    "\n",
    "    return dp\n",
    "# 18. exp( [S] * theta )\n",
    "#     T = exp_MS1 @ exp_MS2 @ ... @ exp_MSn @ M\n",
    "#     S & M is read from picture\n",
    "def expS(S,theta):\n",
    "    \n",
    "    MS = getMatrixTwist(S)\n",
    "    exp_MS = expm( MS * theta)\n",
    "\n",
    "    return exp_MS\n",
    "\n",
    "# 19. Spatial_Jacobian\n",
    "def getJspace(S1,S2,S3,theta):\n",
    "\n",
    "    theta1 = theta[0,0]\n",
    "    theta2 = theta[1,0]\n",
    "    theta3 = theta[2,0]\n",
    "\n",
    "    MS1 = getMatrixTwist(S1)\n",
    "    MS2 = getMatrixTwist(S2)\n",
    "    MS3 = getMatrixTwist(S3)\n",
    "\n",
    "    exp_MS1 = expm( MS1 * theta1)    \n",
    "    exp_MS2 = exp_MS1 @ expm( MS2 * theta2)   \n",
    "    exp_MS3 = exp_MS2 @ expm( MS3 * theta3)\n",
    "\n",
    "    Ad_M1 = getAdT(exp_MS1)\n",
    "    Ad_M2 = getAdT(exp_MS2)\n",
    "\n",
    "    Jspace1 = S1\n",
    "    Jspace2 = Ad_M1 @ S2\n",
    "    Jspace3 = Ad_M2 @ S3\n",
    "\n",
    "    Spatial_Jacobian = np.hstack((Jspace1,Jspace2,Jspace3))\n",
    "\n",
    "    return Spatial_Jacobian\n",
    "# 20. Body_Jacobian\n",
    "def getJbody(Jspace,M):\n",
    "\n",
    "    Mt = getInversedT(M)\n",
    "    Body_Jacobian = getAdT(Mt) @ Jspace\n",
    "\n",
    "    return Body_Jacobian\n"
   ]
  },
  {
   "cell_type": "markdown",
   "metadata": {},
   "source": [
    "## Question 1: basics\n",
    "In this first set of questions, we aim to write the basic functions to do kinematics\n",
    "* Write a function ``vec_to_skew(w)`` that transforms a 3D vector (numpy array) into a skew symmetric matrix\n",
    "* Write a function ``twist_to_skew(V)`` that transforms a 6D twist into a 4x4 matrix (use ``vec_to_skew``)\n",
    "* Write a function ``exp_twist_bracket(V)`` that returns the exponential of a (bracketed) twist $\\mathrm{e}^{[\\mathcal{V}]}$ where the input to the function is a 6D twist\n",
    "* Write a function ``inverseT(T)`` that returns the inverse of a homogeneous transform T\n",
    "* Write a function ``getAdjoint(T)`` that returns the adjoint of a homogeneous transform T"
   ]
  },
  {
   "cell_type": "code",
   "execution_count": null,
   "metadata": {},
   "outputs": [],
   "source": [
    "# Basic function\n",
    "# from [a] → a ( 3 x 1 )  \n",
    "\n",
    "def get_3D_Vector(mw):\n",
    "\n",
    "    w=([\n",
    "    [mw[2,1]],\n",
    "    [mw[0,2]],\n",
    "    [mw[1,0]]\n",
    "    ])\n",
    "\n",
    "    return w\n",
    "\n",
    "# from [V] → V\n",
    "def get_Twist_Vector(MV):\n",
    "\n",
    "    V = np.array([\n",
    "        [MV[2,1]],\n",
    "        [MV[0,2]],\n",
    "        [MV[1,0]],\n",
    "        [MV[0,3]],\n",
    "        [MV[1,3]],\n",
    "        [MV[2,3]]\n",
    "    ])\n",
    "        \n",
    "    return V\n",
    "\n",
    "# function for \"getAdjoint(T)\"\n",
    "def getRpfromT(T):\n",
    "\n",
    "    def getRfromT(T):   \n",
    "\n",
    "        R = T[0:3, 0:3]\n",
    "     \n",
    "        return R\n",
    "\n",
    "    def getpfromT(T):\n",
    "\n",
    "        p = np.array([\n",
    "            [T[0,3]],\n",
    "            [T[1,3]],\n",
    "            [T[2,3]]\n",
    "        ])\n",
    "\n",
    "        return p\n",
    "\n",
    "    R = getRfromT(T)\n",
    "    p = getpfromT(T)\n",
    "\n",
    "    return R,p"
   ]
  },
  {
   "cell_type": "code",
   "execution_count": 58,
   "metadata": {},
   "outputs": [],
   "source": [
    "def vec_to_skew(w):\n",
    "    \n",
    "    skew_w = np.array([\n",
    "        [0      , -w[2,0] , w[1,0] ],\n",
    "        [w[2,0] , 0       , -w[0,0]],\n",
    "        [-w[1,0], w[0,0]  , 0      ]\n",
    "        ])\n",
    "    \n",
    "    return skew_w\n",
    "\n",
    "def twist_to_skew(V):\n",
    "    \n",
    "    skew_V = np.array([\n",
    "\n",
    "        [0, -V[2,0], V[1,0], V[3,0]],\n",
    "        [V[2,0], 0, -V[0,0], V[4,0]],\n",
    "        [-V[1,0], V[0,0], 0, V[5,0]],\n",
    "        [0, 0, 0, 0]\n",
    "\n",
    "    ])\n",
    "\n",
    "    return skew_V\n",
    "\n",
    "def exp_twist_bracket(V):\n",
    "\n",
    "    MV = twist_to_skew(V)\n",
    "    T = expm(MV)\n",
    "\n",
    "    return T\n",
    "\n",
    "def inverseT(T):\n",
    "\n",
    "    def getRfromT(T):\n",
    "        \n",
    "        R = T[0:3, 0:3]\n",
    "        \n",
    "        return R\n",
    "\n",
    "    def getpfromT(T):\n",
    "\n",
    "        p = np.array([\n",
    "\n",
    "            [T[0,3]],\n",
    "            [T[1,3]],\n",
    "            [T[2,3]]\n",
    "\n",
    "        ])\n",
    "\n",
    "        return p\n",
    "    \n",
    "    R = getRfromT(T)\n",
    "    p = getpfromT(T)\n",
    "    TR = np.transpose(R)\n",
    "    Tp = -TR @ p\n",
    "    M = np.hstack( (TR, Tp) )  \n",
    "    N = np.array([0,0,0,1])  \n",
    "    T = np.vstack(( M, N ))\n",
    "\n",
    "    return T\n",
    "\n",
    "def getAdjoint(T):\n",
    "    \n",
    "    R,p = getRpfromT(T)\n",
    "    mp = vec_to_skew(p)\n",
    "    M = np.dot(mp, R)\n",
    "    O = np.dot(0, np.eye(3))\n",
    "    \n",
    "    H1 = np.hstack((R,O))\n",
    "    H2 = np.hstack((M,R))\n",
    "\n",
    "    AdT = np.vstack((H1,H2))\n",
    "    \n",
    "    return AdT    "
   ]
  },
  {
   "cell_type": "markdown",
   "metadata": {},
   "source": [
    "## Question 2: forward kinematics\n",
    "* Write a function ``forward_kinematics(theta)`` that gets as an input an array of joint angles and computes the pose of the end-effector.\n",
    "\n",
    "In order to test this function, you are given the following forward kinematics results (up to $10^{-4}$ precision),\n",
    "\n",
    "$T_{SH}(0,\\ 0,\\ 0,\\ 0,\\ 0,\\ 0,\\ 0) = \\begin{bmatrix}1 & 0 & 0 & 0 \\\\ 0 & 1 & 0 & 0 \\\\ 0 & 0 & 1 & 1.301 \\end{bmatrix}$,\n",
    "\n",
    "$T_{SH}(0.2,\\ -0.2,\\ 0.5,\\ -0.4,\\ 1.2,\\ -0.8,\\ 0.4) = \\begin{bmatrix}\n",
    "-0.4951 & -0.814 &  0.3037 & -0.0003 \\\\\n",
    "0.6286 & -0.5769 & -0.5215 &  0.0056\\\\\n",
    "0.5997 & -0.0673 &  0.7974 &  1.2563\\\\\n",
    "0.  &    0.  &    0.  &    1.\\end{bmatrix}$\n",
    "\n",
    "$T_{SH}(-1.2,\\ 0.7,\\ 2.8,\\ 0.7,\\ 1.2,\\ 0.2,\\ 0.3) = \\begin{bmatrix}\n",
    "-0.9669 & -0.254 &  -0.0234 &  0.1535\\\\\n",
    "0.0976 & -0.2835 & -0.954 &  -0.7557\\\\\n",
    "0.2357 & -0.9247 &  0.2989 &  0.795\\\\\n",
    " 0.  &    0.  &    0.  &    1.\\end{bmatrix}$"
   ]
  },
  {
   "cell_type": "code",
   "execution_count": 59,
   "metadata": {},
   "outputs": [
    {
     "name": "stdout",
     "output_type": "stream",
     "text": [
      "[[-0.495 -0.814  0.304 -0.   ]\n",
      " [ 0.629 -0.577 -0.522  0.006]\n",
      " [ 0.6   -0.067  0.797  1.256]\n",
      " [ 0.     0.     0.     1.   ]]\n"
     ]
    }
   ],
   "source": [
    "# Write down some basic data for all the 7 joints:\n",
    "\n",
    "# Get p value from the object\n",
    "gap = [0.1575, 0.2025, 0.2045, 0.2155, 0.1845, 0.2155, 0.0810]\n",
    "h = [0.1575]\n",
    "for i in range(1,len(gap)):\n",
    "    h.append(gap[i]+h[i-1])\n",
    "\n",
    "# Write down p in 3 × 7 form.\n",
    "# if you wanna get p1 = [ [0], [0], [ h[0] ] ], use p[:,0].reshape(-1,1)\n",
    "p = np.array([\n",
    "    [0,       0,       0,       0,       0,          0,      0],\n",
    "    [0,       0,       0,       0,       0,    -0.0607,      0],\n",
    "    [h[0],    h[1],    h[2],    h[3],    h[4],       h[5],   h[6]]\n",
    "])\n",
    "\n",
    "# Write down w in 3 × 7 form.\n",
    "# if you wanna get w1 = [ [0], [0], [1] ], use w[:,0].reshape(-1,1)\n",
    "w = np.array([\n",
    "    [0,    0,    0,    0,    0,    0,   0],\n",
    "    [0,    1,    0,   -1,    0,    1,   0],\n",
    "    [1,    0,    1,   -0,    1,    0,   1]\n",
    "])\n",
    "\n",
    "# Value for testing\n",
    "w1 = np.array([ [0], [0], [1] ])\n",
    "p1 = np.array([ [0], [0], [ h[0] ] ])\n",
    "theta2 = [0.2, -0.2, 0.5, -0.4, 1.2, -0.8, 0.4]\n",
    "\n",
    "# Get all Twists from w and p\n",
    "S = np.array([ [], [], [], [], [], [] ])\n",
    "\n",
    "for i in range(7):\n",
    "    S = np.hstack( ( S, getTwistfromwp( w[:,i].reshape(-1,1), p[:,i].reshape(-1,1) ) ) )\n",
    "\n",
    "# some irrelevent data, not related with current function\n",
    "p = np.array([ [0], [0], [0] ])\n",
    "\n",
    "R = np.array([\n",
    "    [1,          0,          0], \n",
    "    [0,          1,          0],\n",
    "    [0,          0,          1]  \n",
    "])\n",
    "\n",
    "# -------------------------------------------------------------------------------------------------------------\n",
    "\n",
    "# FK(0,0,0,0,0,0,0)\n",
    "M = np.array([\n",
    "    [1,     0,      0,      0],\n",
    "    [0,     1,      0,      0],\n",
    "    [0,     0,      1,      1.301],\n",
    "    [0,     0,      0,      1]\n",
    "])\n",
    "\n",
    "# Forward_kinematics\n",
    "def forward_kinematics(theta):\n",
    "\n",
    "    FK = np.identity(4)\n",
    "\n",
    "    for i in range(7):\n",
    "        exp_MS = expm(twist_to_skew(S[:,i].reshape(-1,1)) * theta[i])\n",
    "        FK = FK @ exp_MS\n",
    "\n",
    "    return FK @ M\n",
    "\n",
    "#check if the result is correct\n",
    "print( np.around( forward_kinematics(theta2), 3) )\n",
    "\n",
    "        \n",
    "    "
   ]
  },
  {
   "cell_type": "markdown",
   "metadata": {},
   "source": [
    "## Question 3: jacobians\n",
    "* Write a function ``get_space_jacobian(theta)`` that computes the space jacobian given an array of joint angles\n",
    "\n",
    "In order to test this function, you are given the following space Jacobian results (up to $10^{-3}$ precision),\n",
    "$J^S(0,\\ 0,\\ 0,\\ 0,\\ 0,\\ 0,\\ 0) = \\begin{bmatrix}\n",
    "   0.000 &   0.000 &   0.000 &   0.000 &   0.000 &   0.000 &   0.000\\\\\n",
    "   0.000 &   1.000 &   0.000 & -1.000 &   0.000 &   1.000 &   0.000\\\\\n",
    "   1.000 &   0.000 &   1.000 &   0.000 &   1.000 &   0.000 &   1.000\\\\\n",
    "   0.000 & -0.360 &   0.000 &   0.780 &   0.000 & -1.180 &   0.000\\\\\n",
    "   0.000 &   0.000 &   0.000 &   0.000 &   0.000 &   0.000 &   0.000\\\\\n",
    "   0.000 &   0.000 &   0.000 &   0.000 &   0.000 &   0.000 &   0.000\n",
    "\\end{bmatrix}\n",
    "$,\n",
    "\n",
    "$J^S(0.2,\\ -0.2,\\ 0.5,\\ -0.4,\\ 1.2,\\ -0.8,\\ 0.4) = \\begin{bmatrix}\n",
    "   0.000 & -0.199 & -0.195 &   0.635 &   0.112 & -0.943 &   0.304\\\\\n",
    "   0.000 &   0.980 & -0.039 & -0.767 &   0.213 & -0.287 & -0.522\\\\\n",
    "   1.000 &   0.000 &   0.980 &   0.095 &   0.971 &   0.172 &   0.797\\\\\n",
    "   0.000 & -0.353 &   0.014 &   0.590 & -0.181 &   0.344 &   0.660\\\\\n",
    "   0.000 & -0.072 & -0.070 &   0.498 &   0.166 & -1.087 &   0.382\\\\\n",
    "   0.000 &   0.000 &   0.000 &   0.073 & -0.016 &   0.075 & -0.002\n",
    "\\end{bmatrix}$\n",
    "\n",
    "$J^S(-1.2,\\ 0.7,\\ 2.8,\\ 0.7,\\ 1.2,\\ 0.2,\\ 0.3) = \\begin{bmatrix}\n",
    "   0.000 &   0.932 &   0.233 &   0.971 &   0.146 & -0.528 & -0.023\\\\\n",
    "   0.000 &   0.362 & -0.600 &   0.103 & -0.970 & -0.242 & -0.954\\\\\n",
    "   1.000 &   0.000 &   0.765 & -0.216 &   0.194 & -0.814 &   0.299\\\\\n",
    "   0.000 & -0.130 &   0.216 & -0.015 &   0.612 &   0.705 &   0.533\\\\\n",
    "   0.000 &   0.336 &   0.084 &   0.683 &   0.080 & -0.274 & -0.065\\\\\n",
    "   0.000 &   0.000 &   0.000 &   0.255 & -0.058 & -0.376 & -0.164\n",
    "\\end{bmatrix}$"
   ]
  },
  {
   "cell_type": "code",
   "execution_count": 60,
   "metadata": {},
   "outputs": [
    {
     "name": "stdout",
     "output_type": "stream",
     "text": [
      "[[ 0.    -0.199 -0.195  0.635  0.112 -0.943  0.304]\n",
      " [ 0.     0.98  -0.039 -0.767  0.213 -0.287 -0.522]\n",
      " [ 1.     0.     0.98   0.095  0.971  0.172  0.797]\n",
      " [ 0.    -0.353  0.014  0.59  -0.181  0.344  0.66 ]\n",
      " [ 0.    -0.072 -0.07   0.498  0.166 -1.087  0.382]\n",
      " [ 0.     0.    -0.     0.073 -0.016  0.075 -0.002]]\n"
     ]
    }
   ],
   "source": [
    "def get_space_jacobian(theta):\n",
    "\n",
    "    #set initial value\n",
    "    Spatial_Jacobian = S[:,0].reshape(-1,1)\n",
    "    exp_MS = expm( twist_to_skew(S[:,0].reshape(-1,1) * theta[0])   )\n",
    "\n",
    "    for i in range(1,7):\n",
    "\n",
    "        exp_MS = exp_MS @ expm(twist_to_skew(S[:,i].reshape(-1,1)) * theta[i] )\n",
    "\n",
    "        Ad_M = getAdjoint(exp_MS)\n",
    "\n",
    "        Jspace = Ad_M @ S[:,i].reshape(-1,1)\n",
    "\n",
    "        Spatial_Jacobian = np.hstack( (Spatial_Jacobian, Jspace) )\n",
    "\n",
    "    return Spatial_Jacobian \n",
    "    \n",
    "# From Jspace to Jbody\n",
    "def getJbody(Jspace, M):\n",
    "\n",
    "    Mt = getInversedT(M)\n",
    "    Body_Jacobian = getAdT(Mt)@ Jspace\n",
    "\n",
    "    return Body_Jacobian\n",
    "#check if the result is correct\n",
    "print( np.around ( get_space_jacobian(theta2), 3 ) )\n"
   ]
  },
  {
   "cell_type": "markdown",
   "metadata": {},
   "source": [
    "### Hint: Q2 and Q3\n",
    "Depending on which method you use to compute the quantities of Q2 and Q3, you will need to define a series of fixed homogeneous transforms, screws, etc. You may want to store these values in various variables that you can reuse (i.e. define the fixed kinematic parameters once and for all).\n",
    "\n",
    "You may also want to store some intermediate results to later compute the Jacobians.\n",
    "\n",
    "Feel free to design the data structure that you prefer and to also pass additional parameters or return multiple variables with these functions if it simplifies your design. You can also put these functions in a class if you wish. Any solution is ok, as long as you can compute the requested quantities.\n",
    "\n",
    "Make sure to explain your design in the report."
   ]
  },
  {
   "cell_type": "markdown",
   "metadata": {},
   "source": [
    "## Question 4: displaying hand trajectories \n",
    "You are given a file ``joint_trajectory.npy`` which contains a sequence of 100 joint configurations (cf. below) corresponding to a motion of the robot over time.\n",
    "* Compute the position of the hand (i.e. the origin of the frame H) in the spatial frame for all 100 joint configuration\n",
    "* Plot x-y position of the hand for all the configurations (i.e. a 2D plot with x as the abscissa and y as the ordinate of the graph). What does the hand draw?\n",
    "* Do the same analysis and plots for the x-z and y-z pairs.\n",
    "\n",
    "### Hint\n",
    "You may use (matplotlib)[https://matplotlib.org/] to draw plots"
   ]
  },
  {
   "cell_type": "code",
   "execution_count": 61,
   "metadata": {},
   "outputs": [],
   "source": [
    "# we open the file and put all the data in the variable joint_trajectory \n",
    "# this gives us a 7 x 200 array (each column in one set of joint configurations)\n",
    "with open('joint_trajectory.npy', 'rb') as f:\n",
    "    joint_trajectory = np.load(f)\n",
    "    \n",
    "# we display the trajectory\n",
    "n_samples = joint_trajectory.shape[1]\n",
    "for i in range(n_samples):\n",
    "    robot_visualizer.display_robot(joint_trajectory[:,i])\n",
    "    time.sleep(0.05) # we wait between two displays so we can see each configuration\n",
    "    "
   ]
  },
  {
   "cell_type": "code",
   "execution_count": 79,
   "metadata": {},
   "outputs": [],
   "source": [
    "# Computing\n",
    "m,config_number = joint_trajectory.shape\n",
    "\n",
    "x = list()\n",
    "y = list()\n",
    "z = list()\n",
    "\n",
    "for i in range(config_number):\n",
    "\n",
    "    theta = joint_trajectory.T[i]\n",
    "    FK = forward_kinematics(theta)\n",
    "    R,position = getRpfromT(FK)  \n",
    "    x.append(position[0,0])\n",
    "    y.append(position[1,0])\n",
    "    z.append(position[2,0])\n",
    "\n",
    "position_xy = np.stack( (x,y) )"
   ]
  },
  {
   "cell_type": "code",
   "execution_count": 101,
   "metadata": {},
   "outputs": [
    {
     "data": {
      "text/plain": [
       "Text(0.5, 1.0, 'y-z fairs position')"
      ]
     },
     "execution_count": 101,
     "metadata": {},
     "output_type": "execute_result"
    },
    {
     "data": {
      "image/png": "[encoded data removed]",
      "text/plain": [
       "<Figure size 360x360 with 1 Axes>"
      ]
     },
     "metadata": {
      "needs_background": "light"
     },
     "output_type": "display_data"
    },
    {
     "data": {
      "image/png": "[encoded data removed]",
      "text/plain": [
       "<Figure size 360x360 with 1 Axes>"
      ]
     },
     "metadata": {
      "needs_background": "light"
     },
     "output_type": "display_data"
    },
    {
     "data": {
      "image/png": "[encoded data removed]",
      "text/plain": [
       "<Figure size 360x360 with 1 Axes>"
      ]
     },
     "metadata": {
      "needs_background": "light"
     },
     "output_type": "display_data"
    }
   ],
   "source": [
    "# x-y pairs\n",
    "fig, ax = plt.subplots(figsize=(5, 5))\n",
    "plt.xlabel(\"x\")\n",
    "plt.ylabel(\"y\")\n",
    "        \n",
    "ax.set_ylim(0.25,0.75)\n",
    "ax.set_xlim(-0.75,-0.25)\n",
    "\n",
    "#plt.scatter(x,y)\n",
    "plt.plot(x,y,linewidth = 4)\n",
    "plt.title(\"x-y fairs position\")  \n",
    "\n",
    "#------------------------------------------------------------------------------------------------\n",
    "# x-z pairs\n",
    "fig, ax = plt.subplots(figsize=(5, 5))\n",
    "plt.xlabel(\"x\")\n",
    "plt.ylabel(\"z\")\n",
    "        \n",
    "ax.set_ylim(0,0.6)\n",
    "ax.set_xlim(-0.80,-0.20)\n",
    "\n",
    "#plt.scatter(x,z)\n",
    "plt.plot(x,z,linewidth = 4)\n",
    "plt.title(\"x-z fairs position\") \n",
    "\n",
    "#------------------------------------------------------------------------------------------------\n",
    "# y-z pairs\n",
    "fig, ax = plt.subplots(figsize=(5, 5))\n",
    "plt.xlabel(\"y\")\n",
    "plt.ylabel(\"z\")\n",
    "        \n",
    "ax.set_ylim(0,0.6)\n",
    "ax.set_xlim(0.20,0.80)\n",
    "\n",
    "#plt.scatter(y,z)\n",
    "plt.plot(y,z,linewidth = 4)\n",
    "plt.title(\"y-z fairs position\")  "
   ]
  },
  {
   "cell_type": "code",
   "execution_count": 65,
   "metadata": {
    "scrolled": false
   },
   "outputs": [
    {
     "data": {
      "text/plain": [
       "\"\\nplt.figure(figsize=[10,15])\\nfor i in range(7):\\n    plt.subplot(7,1,i+1)\\n    plt.plot(joint_trajectory[i,:], 'x', linewidth=4)\\n    plt.ylabel(f'joint {i+1}', fontsize=30)\\n\""
      ]
     },
     "execution_count": 65,
     "metadata": {},
     "output_type": "execute_result"
    }
   ],
   "source": [
    "# now we plot the joint trajectories for each joint (each cross correspond to one data point)\n",
    "\"\"\"\n",
    "plt.figure(figsize=[10,15])\n",
    "for i in range(7):\n",
    "    plt.subplot(7,1,i+1)\n",
    "    plt.plot(joint_trajectory[i,:], 'x', linewidth=4)\n",
    "    plt.ylabel(f'joint {i+1}', fontsize=30)\n",
    "\"\"\"\n"
   ]
  },
  {
   "cell_type": "markdown",
   "metadata": {},
   "source": [
    "## Question 5: computing velocities\n",
    "The file ``joint_velocities.npy`` contains the velocities of each joint corresponding to the sequence joint configurations seen in the previous question. \n",
    "* Use the Jacobian to compute the linear velocity of the endeffector in: 1) the spatial frame. 2) the end-effector frame and 3) in a frame with same origin as the end-effector frame but oriented like the spatial frame\n",
    "* Plot these velocities in each frame (one plot per dimension x,y,z)\n",
    "* Compare these plots and relate them to the plot of the positions (Question 4), is there a frame that seems most intuitive to you? Why?"
   ]
  },
  {
   "cell_type": "code",
   "execution_count": 96,
   "metadata": {},
   "outputs": [
    {
     "data": {
      "text/plain": [
       "\"\\nplt.figure(figsize=[10,15])\\nfor i in range(7):\\n    plt.subplot(7,1,i+1)\\n    plt.plot(joint_velocities[i,:], 'b', linewidth=4)\\n    plt.ylabel(f'joint {i+1}', fontsize=30)\\n\""
      ]
     },
     "execution_count": 96,
     "metadata": {},
     "output_type": "execute_result"
    }
   ],
   "source": [
    "# we open the file and put all the data in the variable joint_trajectory \n",
    "# this gives us a 7 x 200 array (each column in one set of joint configurations)\n",
    "with open('joint_velocity.npy', 'rb') as f:\n",
    "    joint_velocities = np.load(f)\n",
    "    \n",
    "# now we plot the joint velocities for each joint (each cross correspond to one data point)\n",
    "\"\"\"\n",
    "plt.figure(figsize=[10,15])\n",
    "for i in range(7):\n",
    "    plt.subplot(7,1,i+1)\n",
    "    plt.plot(joint_velocities[i,:], 'b', linewidth=4)\n",
    "    plt.ylabel(f'joint {i+1}', fontsize=30)\n",
    "\"\"\""
   ]
  },
  {
   "cell_type": "code",
   "execution_count": 77,
   "metadata": {},
   "outputs": [
    {
     "data": {
      "text/plain": [
       "'\\nfig, ax = plt.subplots(figsize=(10, 10)\\nplt.xlabel(\"x\")\\nplt.ylabel(\"y\")\\n        \\nax.set_ylim(0.25,0.75)\\nax.set_xlim(-0.75,-0.25)\\n\\nplt.scatter(x,y)\\nplt.plot(x,y)\\nplt.title(\"x-y fairs position\")  \\n'"
      ]
     },
     "execution_count": 77,
     "metadata": {},
     "output_type": "execute_result"
    }
   ],
   "source": [
    "# Computing the linear velocity in the spatial frame\n",
    "m1,config_number1 = joint_velocities.shape\n",
    "\n",
    "linear_Velocity = np.array([ [], [], [] ])\n",
    "\n",
    "for i in range(config_number):\n",
    "    theta = joint_trajectory.T[i]\n",
    "    dtheta = joint_velocities.T[i]\n",
    "    dtheta = dtheta.reshape(-1,1)\n",
    "    \n",
    "    Jspace = get_space_jacobian(theta)\n",
    "    \n",
    "    V = Jspace @ dtheta\n",
    "    w,v = getwvfromTwist(V)\n",
    "    linear_Velocity  = np.hstack((linear_Velocity ,v))\n",
    "\n",
    "# check if the result is correct\n",
    "#print(dtheta)\n",
    "#print(linear_Velocity.shape)\n",
    "\n",
    "# Prepare to plot\n",
    "v_x = linear_Velocity[0,:]\n",
    "v_y = linear_Velocity[1,:]\n",
    "v_z = linear_Velocity[2,:]\n"
   ]
  },
  {
   "cell_type": "code",
   "execution_count": 82,
   "metadata": {},
   "outputs": [
    {
     "name": "stdout",
     "output_type": "stream",
     "text": [
      "(3, 200)\n"
     ]
    }
   ],
   "source": [
    "# Computing the linear velocity in the body frame & body_spatial frame(The third type)\n",
    "# Initializing\n",
    "Body_linear_Velocity = np.array([ [], [], [] ])\n",
    "Body_spatial_linear_Velocity = np.array([ [], [], [] ])\n",
    "\n",
    "for i in range(config_number):\n",
    "    # Set basic value\n",
    "    theta = joint_trajectory.T[i]\n",
    "    dtheta = joint_velocities.T[i]\n",
    "    dtheta = dtheta.reshape(-1,1)\n",
    "\n",
    "    # Get forward_kinematics\n",
    "    FK = forward_kinematics(theta)\n",
    "    # Get Body Twist and linear velocity\n",
    "    Jspace = get_space_jacobian(theta)\n",
    "    Jbody = getJbody(Jspace,FK)\n",
    "\n",
    "    V_body = Jbody @ dtheta\n",
    "    w_body, v_body = getwvfromTwist(V_body)\n",
    "\n",
    "    Body_linear_Velocity = np.hstack((Body_linear_Velocity,v_body))\n",
    "    # Get Body_Spatial Twist and linear velocity\n",
    "    R,p = getRpfromT(FK)\n",
    "    p = np.array([ [0], [0], [0] ])\n",
    "    Tah = getTfromRp(R,p)\n",
    "    Ad_Tah = getAdjoint(Tah)\n",
    "\n",
    "    V_body_spatial = Ad_Tah @ V_body\n",
    "    w_body_spatial, v_body_spatial = getwvfromTwist(V_body_spatial)\n",
    "\n",
    "    Body_spatial_linear_Velocity = np.hstack((Body_spatial_linear_Velocity,v_body_spatial))\n",
    "\n",
    "# check if the result is correct\n",
    "print(Body_linear_Velocity.shape)\n",
    "\n",
    "# Prepare to plot\n",
    "v_x_body = Body_linear_Velocity[0,:]\n",
    "v_y_body = Body_linear_Velocity[1,:]\n",
    "v_z_body = Body_linear_Velocity[2,:]\n",
    "\n",
    "#------------------------------------------------------------------------------------------------------------------\n",
    "v_x_body_spatial = Body_spatial_linear_Velocity[0,:]\n",
    "v_y_body_spatial = Body_spatial_linear_Velocity[1,:]\n",
    "v_z_body_spatial = Body_spatial_linear_Velocity[2,:]\n"
   ]
  },
  {
   "cell_type": "code",
   "execution_count": 98,
   "metadata": {},
   "outputs": [
    {
     "data": {
      "text/plain": [
       "[<matplotlib.lines.Line2D at 0x2bf90df0760>]"
      ]
     },
     "execution_count": 98,
     "metadata": {},
     "output_type": "execute_result"
    },
    {
     "data": {
      "image/png": "[encoded data removed]",
      "text/plain": [
       "<Figure size 360x360 with 1 Axes>"
      ]
     },
     "metadata": {
      "needs_background": "light"
     },
     "output_type": "display_data"
    },
    {
     "data": {
      "image/png": "[encoded data removed]",
      "text/plain": [
       "<Figure size 360x360 with 1 Axes>"
      ]
     },
     "metadata": {
      "needs_background": "light"
     },
     "output_type": "display_data"
    },
    {
     "data": {
      "image/png": "[encoded data removed]",
      "text/plain": [
       "<Figure size 360x360 with 1 Axes>"
      ]
     },
     "metadata": {
      "needs_background": "light"
     },
     "output_type": "display_data"
    }
   ],
   "source": [
    "# Try to plot 'x' velocity in spatial frame\n",
    "fig, ax = plt.subplots(figsize=(5, 5))\n",
    "plt.xlabel(\"times\")\n",
    "plt.ylabel(\"velocity\")\n",
    "plt.title(\"x velocity in spatial frame\")        \n",
    "\n",
    "ax.set_ylim(-0.4,0.3)\n",
    "ax.set_xlim(-1,205)\n",
    "n = list(range(200))\n",
    "\n",
    "#plt.scatter(n,v_x)\n",
    "plt.plot(n,v_x,linewidth = 4)\n",
    "#-----------------------------------------------------------------------------------------\n",
    "# Try to plot 'x' velocity in body frame\n",
    "fig, ax = plt.subplots(figsize=(5, 5))\n",
    "plt.xlabel(\"times\")\n",
    "plt.ylabel(\"velocity\")\n",
    "plt.title(\"x velocity in body frame\")        \n",
    "\n",
    "ax.set_ylim(-0.4,0.3)\n",
    "ax.set_xlim(-1,205)\n",
    "n = list(range(200))\n",
    "\n",
    "#plt.scatter(n,v_x_body)\n",
    "plt.plot(n,v_x_body,linewidth = 4)\n",
    "\n",
    "#-----------------------------------------------------------------------------------------\n",
    "# Try to plot 'x' velocity in body_spatial frame\n",
    "fig, ax = plt.subplots(figsize=(5, 5))\n",
    "plt.xlabel(\"times\")\n",
    "plt.ylabel(\"velocity\")\n",
    "plt.title(\"x velocity in body_spatial frame\")        \n",
    "\n",
    "ax.set_ylim(-0.4,0.3)\n",
    "ax.set_xlim(-1,205)\n",
    "n = list(range(200))\n",
    "\n",
    "#plt.scatter(n,v_x_body_spatial)\n",
    "plt.plot(n,v_x_body_spatial,linewidth = 4)"
   ]
  },
  {
   "cell_type": "code",
   "execution_count": 102,
   "metadata": {},
   "outputs": [
    {
     "data": {
      "text/plain": [
       "[<matplotlib.lines.Line2D at 0x2bf907fe070>]"
      ]
     },
     "execution_count": 102,
     "metadata": {},
     "output_type": "execute_result"
    },
    {
     "data": {
      "image/png": "[encoded data removed]",
      "text/plain": [
       "<Figure size 360x360 with 1 Axes>"
      ]
     },
     "metadata": {
      "needs_background": "light"
     },
     "output_type": "display_data"
    },
    {
     "data": {
      "image/png": "[encoded data removed]",
      "text/plain": [
       "<Figure size 360x360 with 1 Axes>"
      ]
     },
     "metadata": {
      "needs_background": "light"
     },
     "output_type": "display_data"
    },
    {
     "data": {
      "image/png": "[encoded data removed]",
      "text/plain": [
       "<Figure size 360x360 with 1 Axes>"
      ]
     },
     "metadata": {
      "needs_background": "light"
     },
     "output_type": "display_data"
    }
   ],
   "source": [
    "# Try to plot 'y' velocity in spatial frame\n",
    "fig, ax = plt.subplots(figsize=(5, 5))\n",
    "plt.xlabel(\"times\")\n",
    "plt.ylabel(\"velocity\")\n",
    "plt.title(\"y velocity in spatial frame\")        \n",
    "\n",
    "ax.set_ylim(-0.3,0.3)\n",
    "ax.set_xlim(-1,205)\n",
    "n = list(range(200))\n",
    "\n",
    "#plt.scatter(n,v_y)\n",
    "plt.plot(n,v_y,linewidth = 4)\n",
    "\n",
    "#-----------------------------------------------------------------------------------------\n",
    "# Try to plot 'y' velocity in body frame\n",
    "fig, ax = plt.subplots(figsize=(5, 5))\n",
    "plt.xlabel(\"times\")\n",
    "plt.ylabel(\"velocity\")\n",
    "plt.title(\"y velocity in body frame\")        \n",
    "\n",
    "ax.set_ylim(-0.3,0.3)\n",
    "ax.set_xlim(-1,205)\n",
    "n = list(range(200))\n",
    "\n",
    "#plt.scatter(n,v_y_body)\n",
    "plt.plot(n,v_y_body,linewidth = 4)\n",
    "\n",
    "#-----------------------------------------------------------------------------------------\n",
    "# Try to plot 'x' velocity in body_spatial frame\n",
    "fig, ax = plt.subplots(figsize=(5, 5))\n",
    "plt.xlabel(\"times\")\n",
    "plt.ylabel(\"velocity\")\n",
    "plt.title(\"y velocity in body_spatial frame\")        \n",
    "\n",
    "ax.set_ylim(-0.15,0.15)\n",
    "ax.set_xlim(-1,205)\n",
    "n = list(range(200))\n",
    "\n",
    "#plt.scatter(n,v_y_body_spatial)\n",
    "plt.plot(n,v_y_body_spatial,linewidth = 4)"
   ]
  },
  {
   "cell_type": "code",
   "execution_count": 99,
   "metadata": {},
   "outputs": [
    {
     "data": {
      "text/plain": [
       "[<matplotlib.lines.Line2D at 0x2bf907ea370>]"
      ]
     },
     "execution_count": 99,
     "metadata": {},
     "output_type": "execute_result"
    },
    {
     "data": {
      "image/png": "[encoded data removed]",
      "text/plain": [
       "<Figure size 360x360 with 1 Axes>"
      ]
     },
     "metadata": {
      "needs_background": "light"
     },
     "output_type": "display_data"
    },
    {
     "data": {
      "image/png": "[encoded data removed]",
      "text/plain": [
       "<Figure size 360x360 with 1 Axes>"
      ]
     },
     "metadata": {
      "needs_background": "light"
     },
     "output_type": "display_data"
    },
    {
     "data": {
      "image/png": "[encoded data removed]",
      "text/plain": [
       "<Figure size 360x360 with 1 Axes>"
      ]
     },
     "metadata": {
      "needs_background": "light"
     },
     "output_type": "display_data"
    }
   ],
   "source": [
    "# Try to plot 'x' velocity in spatial frame\n",
    "fig, ax = plt.subplots(figsize=(5, 5))\n",
    "plt.xlabel(\"times\")\n",
    "plt.ylabel(\"velocity\")\n",
    "plt.title(\"z velocity in spatial frame\")        \n",
    "\n",
    "ax.set_ylim(-0.4,0.5)\n",
    "ax.set_xlim(-1,205)\n",
    "n = list(range(200))\n",
    "\n",
    "#plt.scatter(n,v_z)\n",
    "plt.plot(n,v_z,linewidth = 4)\n",
    "\n",
    "#-----------------------------------------------------------------------------------------\n",
    "# Try to plot 'x' velocity in body frame\n",
    "fig, ax = plt.subplots(figsize=(5, 5))\n",
    "plt.xlabel(\"times\")\n",
    "plt.ylabel(\"velocity\")\n",
    "plt.title(\"z velocity in body frame\")        \n",
    "\n",
    "ax.set_ylim(-0.3,0.3)\n",
    "ax.set_xlim(-1,205)\n",
    "n = list(range(200))\n",
    "\n",
    "#plt.scatter(n,v_z_body)\n",
    "plt.plot(n,v_z_body,linewidth = 4)\n",
    "\n",
    "#-----------------------------------------------------------------------------------------\n",
    "# Try to plot 'x' velocity in body_spatial frame\n",
    "fig, ax = plt.subplots(figsize=(5, 5))\n",
    "plt.xlabel(\"times\")\n",
    "plt.ylabel(\"velocity\")\n",
    "plt.title(\"z velocity in body_spatial frame\")        \n",
    "\n",
    "ax.set_ylim(-0.3,0.3)\n",
    "ax.set_xlim(-1,205)\n",
    "n = list(range(200))\n",
    "\n",
    "#plt.scatter(n,v_z_body_spatial)\n",
    "plt.plot(n,v_z_body_spatial,linewidth = 4)"
   ]
  }
 ],
 "metadata": {
  "kernelspec": {
   "display_name": "Python 3",
   "language": "python",
   "name": "python3"
  },
  "language_info": {
   "codemirror_mode": {
    "name": "ipython",
    "version": 3
   },
   "file_extension": ".py",
   "mimetype": "text/x-python",
   "name": "python",
   "nbconvert_exporter": "python",
   "pygments_lexer": "ipython3",
   "version": "3.8.8"
  }
 },
 "nbformat": 4,
 "nbformat_minor": 4
}
